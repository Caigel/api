{
 "cells": [
  {
   "cell_type": "code",
   "execution_count": 1,
   "id": "5733c9f8-0961-45bd-9d53-77f7bd6b242e",
   "metadata": {},
   "outputs": [],
   "source": [
    "import sqlite3\n",
    "\n",
    "conn = sqlite3.connect(\"books.db\")\n",
    "cursor = conn.cursor()\n",
    "\n",
    "cursor.execute('''\n",
    "CREATE TABLE IF NOT EXISTS books (\n",
    "    title TEXT,\n",
    "    author TEXT,\n",
    "    year INTEGER\n",
    ")\n",
    "''')\n",
    "\n",
    "cursor.executemany('''\n",
    "INSERT INTO books (title, author, year) VALUES (?, ?, ?)\n",
    "''', [\n",
    "    (\"To Kill a Mockingbird\", \"Harper Lee\", 1960),\n",
    "    (\"1984\", \"George Orwell\", 1949)\n",
    "])\n",
    "\n",
    "conn.commit()\n",
    "conn.close()\n"
   ]
  },
  {
   "cell_type": "code",
   "execution_count": 2,
   "id": "f588becc-e62a-4562-8ada-39b669ec362a",
   "metadata": {},
   "outputs": [
    {
     "name": "stdout",
     "output_type": "stream",
     "text": [
      "1984\n",
      "To Kill a Mockingbird\n"
     ]
    }
   ],
   "source": [
    "from sqlalchemy import create_engine, Column, String, Integer\n",
    "from sqlalchemy.orm import declarative_base, sessionmaker\n",
    "\n",
    "engine = create_engine(\"sqlite:///books.db\", echo=False)\n",
    "Base = declarative_base()\n",
    "Session = sessionmaker(bind=engine)\n",
    "session = Session()\n",
    "\n",
    "class Book(Base):\n",
    "    __tablename__ = \"books\"\n",
    "    title = Column(String, primary_key=True)\n",
    "    author = Column(String)\n",
    "    year = Column(Integer)\n",
    "\n",
    "for book in session.query(Book.title).order_by(Book.title):\n",
    "    print(book.title)\n",
    "\n",
    "session.close()\n"
   ]
  },
  {
   "cell_type": "code",
   "execution_count": null,
   "id": "abbe8c79-3c27-4976-8dfa-0125a35fbc7f",
   "metadata": {},
   "outputs": [],
   "source": []
  }
 ],
 "metadata": {
  "kernelspec": {
   "display_name": "Python 3 (ipykernel)",
   "language": "python",
   "name": "python3"
  },
  "language_info": {
   "codemirror_mode": {
    "name": "ipython",
    "version": 3
   },
   "file_extension": ".py",
   "mimetype": "text/x-python",
   "name": "python",
   "nbconvert_exporter": "python",
   "pygments_lexer": "ipython3",
   "version": "3.13.0"
  }
 },
 "nbformat": 4,
 "nbformat_minor": 5
}
